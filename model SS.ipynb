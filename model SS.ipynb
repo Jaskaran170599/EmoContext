{
 "cells": [
  {
   "cell_type": "code",
   "execution_count": 1,
   "metadata": {},
   "outputs": [
    {
     "name": "stderr",
     "output_type": "stream",
     "text": [
      "Using TensorFlow backend.\n"
     ]
    }
   ],
   "source": [
    "import tensorflow as tf\n",
    "import numpy as np\n",
    "import emo\n",
    "import numpy as np"
   ]
  },
  {
   "cell_type": "code",
   "execution_count": 2,
   "metadata": {},
   "outputs": [],
   "source": [
    "#hyper-parameters\n",
    "emb_dim=50\n",
    "max_len=25\n",
    "num_units=256\n",
    "LR=0.005"
   ]
  },
  {
   "cell_type": "code",
   "execution_count": 3,
   "metadata": {},
   "outputs": [],
   "source": [
    "# t. We use Cross Entropy\n",
    "# with Softmax as our loss function [12], and Stochastic Gradient\n",
    "# Descent (SGD) as our learner. We found the optimal batch size to\n",
    "# be 4000 with a learning rate of 0.005"
   ]
  },
  {
   "cell_type": "code",
   "execution_count": 4,
   "metadata": {},
   "outputs": [],
   "source": [
    "#placeholders\n",
    "tf.reset_default_graph()\n",
    "glove_in=tf.placeholder(dtype=tf.float32,shape=(None,max_len,emb_dim),name=\"glove_in\")\n",
    "sswe_in=tf.placeholder(dtype=tf.float32,shape=(None,max_len,emb_dim),name=\"sswe_in\")\n",
    "labels=tf.placeholder(dtype=tf.int32,shape=(None,1),name=\"labels\")"
   ]
  },
  {
   "cell_type": "code",
   "execution_count": 5,
   "metadata": {},
   "outputs": [],
   "source": [
    "with tf.variable_scope(\"glove_enc\"):\n",
    "    cell1=tf.nn.rnn_cell.LSTMCell(num_units)\n",
    "    cell2=tf.nn.rnn_cell.LSTMCell(num_units)\n",
    "    _,glove_states=tf.nn.bidirectional_dynamic_rnn(cell1,cell2,glove_in,dtype=tf.float32)    "
   ]
  },
  {
   "cell_type": "code",
   "execution_count": 6,
   "metadata": {},
   "outputs": [],
   "source": [
    "with tf.variable_scope(\"sswe_enc\"):\n",
    "    cell1=tf.nn.rnn_cell.LSTMCell(num_units)\n",
    "    cell2=tf.nn.rnn_cell.LSTMCell(num_units)\n",
    "    _,sswe_states=tf.nn.bidirectional_dynamic_rnn(cell1,cell2,sswe_in,dtype=tf.float32)"
   ]
  },
  {
   "cell_type": "code",
   "execution_count": 7,
   "metadata": {},
   "outputs": [],
   "source": [
    "with tf.variable_scope(\"merger\"):\n",
    "    features=tf.concat([glove_states[0].c,glove_states[1].c,glove_states[0].h,glove_states[1].h,\n",
    "                        sswe_states[0].c,sswe_states[1].c,sswe_states[0].h,sswe_states[1].h]\n",
    "                       ,axis=-1)"
   ]
  },
  {
   "cell_type": "code",
   "execution_count": 8,
   "metadata": {
    "scrolled": true
   },
   "outputs": [],
   "source": [
    "with tf.variable_scope(\"decoder\"):\n",
    "    dense1=tf.keras.layers.Dense(128,activation=tf.nn.leaky_relu)(features)\n",
    "    dense2=tf.keras.layers.Dense(64,activation=tf.nn.leaky_relu)(dense1)\n",
    "    output=tf.keras.layers.Dense(4,activation=\"softmax\",name=\"outputs\")(dense2)\n",
    "    "
   ]
  },
  {
   "cell_type": "code",
   "execution_count": 9,
   "metadata": {
    "scrolled": true
   },
   "outputs": [],
   "source": [
    "with tf.variable_scope(\"loss/opti\"):\n",
    "    loss=tf.keras.losses.sparse_categorical_crossentropy(labels,output)\n",
    "    opti=tf.train.AdamOptimizer(learning_rate=LR,name='opti')\n",
    "    step=opti.minimize(loss,name=\"step\")"
   ]
  },
  {
   "cell_type": "code",
   "execution_count": 10,
   "metadata": {},
   "outputs": [],
   "source": [
    "Sess=tf.Session()\n",
    "Sess.run(tf.global_variables_initializer())"
   ]
  },
  {
   "cell_type": "code",
   "execution_count": 11,
   "metadata": {},
   "outputs": [],
   "source": [
    "def one_epoch(batch_gen,i):\n",
    "    m=0\n",
    "    ep_l=0\n",
    "    ep_acc=0\n",
    "    for batch in batch_gen:\n",
    "        m+=1\n",
    "        if m==1:\n",
    "            continue\n",
    "        glov=batch[1][:,0]\n",
    "        sswe=batch[1][:,1]\n",
    "        labl=batch[2]\n",
    "        labl=np.array(labl).reshape((-1,1))\n",
    "        out,l,_=Sess.run([output,loss,step],feed_dict={glove_in:glov,sswe_in:sswe,labels:labl})\n",
    "        l=l.sum()/l.shape[0]\n",
    "        ep_l+=l\n",
    "        acc=(out.argmax(-1)==labl[:,0]).sum()/labl.shape[0]\n",
    "        ep_acc+=acc\n",
    "        print(\"Epoch : \",i,\" batch : \",m,\" batch_loss :\",l,\" batch_acc: \",acc)\n",
    "    m-=1\n",
    "    ep_l/=m\n",
    "    ep_acc/=m\n",
    "    print(\"Epoch : \",i,\"epoch_loss : \",ep_l,\"epoch_acc : \",ep_acc)"
   ]
  },
  {
   "cell_type": "code",
   "execution_count": 12,
   "metadata": {},
   "outputs": [],
   "source": [
    "def fit(filename,mode,Glove,Sswe,batch_size,epochs,k=1):\n",
    "    for i in range(epochs):\n",
    "        y=emo.preprocessData(filename,mode,Glove,Sswe,batch_size,k)\n",
    "        one_epoch(y,i)\n",
    "        \n",
    "        "
   ]
  },
  {
   "cell_type": "code",
   "execution_count": 13,
   "metadata": {},
   "outputs": [],
   "source": [
    "Glove_emb=emo.loadEmbeddings(embeddingfile=\"./glove.6B.50d.txt\",emb_dim=emb_dim)\n",
    "# Sswe_emb=emo.loadEmbeddings(embeddingfile=,emb_dim=emb_dim)"
   ]
  },
  {
   "cell_type": "code",
   "execution_count": 14,
   "metadata": {},
   "outputs": [],
   "source": [
    "zero_cat_fr=1\n",
    "epochs=1\n",
    "batch_size=4000\n",
    "filename=\"./data/train.txt\"\n",
    "mode=\"train\""
   ]
  },
  {
   "cell_type": "code",
   "execution_count": 15,
   "metadata": {
    "scrolled": true
   },
   "outputs": [
    {
     "name": "stdout",
     "output_type": "stream",
     "text": [
      "Epoch :  0  batch :  2  batch_loss : 1.38102734375  batch_acc:  0.18875\n",
      "Epoch :  0  batch :  3  batch_loss : 5.40666357421875  batch_acc:  0.50125\n",
      "Epoch :  0  batch :  4  batch_loss : 1.90913037109375  batch_acc:  0.1875\n",
      "Epoch :  0  batch :  5  batch_loss : 1.40804443359375  batch_acc:  0.2035\n",
      "Epoch :  0  batch :  6  batch_loss : 1.309914306640625  batch_acc:  0.4965\n",
      "Epoch :  0  batch :  7  batch_loss : 1.25118017578125  batch_acc:  0.49025\n",
      "Epoch :  0  batch :  8  batch_loss : 1.2189001012731482  batch_acc:  0.5115740740740741\n",
      "Epoch :  0 epoch_loss :  1.9835514723358962 epoch_acc :  0.36847486772486765\n"
     ]
    }
   ],
   "source": [
    "fit(filename,mode,Glove_emb,Glove_emb,batch_size,epochs,zero_cat_fr)"
   ]
  },
  {
   "cell_type": "code",
   "execution_count": 26,
   "metadata": {},
   "outputs": [],
   "source": [
    "def get_predicitons(test_data):\n",
    "    glov=test_data[:,0]\n",
    "    sswe=test_data[:,1]    \n",
    "    out=Sess.run([output],feed_dict={glove_in:glov,sswe_in:sswe})\n",
    "    return out"
   ]
  },
  {
   "cell_type": "code",
   "execution_count": 27,
   "metadata": {},
   "outputs": [],
   "source": [
    "def get_metrics(pred,true,NUM_CLASSES):\n",
    "    ground=[]\n",
    "    true=np.array(true)\n",
    "    for i in range(true.shape[0]):\n",
    "        one=np.zeros((4,))\n",
    "        one[true[i]]=1\n",
    "        ground.append(one)\n",
    "    ground=np.array(ground)\n",
    "    \n",
    "    emo.getMetrics(pred,ground,NUM_CLASSES)"
   ]
  },
  {
   "cell_type": "code",
   "execution_count": 28,
   "metadata": {},
   "outputs": [],
   "source": [
    "indices,data,true=next(emo.preprocessData(filename,mode,Glove_emb,Glove_emb,4000,1))"
   ]
  },
  {
   "cell_type": "code",
   "execution_count": 29,
   "metadata": {},
   "outputs": [],
   "source": [
    "pred=get_predicitons(data)[0]"
   ]
  },
  {
   "cell_type": "code",
   "execution_count": 30,
   "metadata": {},
   "outputs": [
    {
     "data": {
      "text/plain": [
       "array([0.631])"
      ]
     },
     "execution_count": 30,
     "metadata": {},
     "output_type": "execute_result"
    }
   ],
   "source": [
    "(pred.argmax(-1)==true).sum()/true.shape"
   ]
  },
  {
   "cell_type": "code",
   "execution_count": 31,
   "metadata": {
    "scrolled": true
   },
   "outputs": [
    {
     "name": "stdout",
     "output_type": "stream",
     "text": [
      "True Positives per class :  [1742.  271.  190.  321.]\n",
      "False Positives per class :  [1018.  244.   59.  155.]\n",
      "False Negatives per class :  [246. 276. 523. 431.]\n",
      "Class happy : Precision : 0.526, Recall : 0.495, F1 : 0.510\n",
      "Class sad : Precision : 0.763, Recall : 0.266, F1 : 0.395\n",
      "Class angry : Precision : 0.674, Recall : 0.427, F1 : 0.523\n",
      "Ignoring the Others class, Macro Precision : 0.6545, Macro Recall : 0.3963, Macro F1 : 0.4937\n",
      "Ignoring the Others class, Micro TP : 782, FP : 458, FN : 1230\n",
      "Accuracy : 0.6310, Micro Precision : 0.6306, Micro Recall : 0.3887, Micro F1 : 0.4809\n"
     ]
    }
   ],
   "source": [
    "get_metrics(pred,true,4)"
   ]
  },
  {
   "cell_type": "code",
   "execution_count": 33,
   "metadata": {},
   "outputs": [
    {
     "data": {
      "text/plain": [
       "(array([0, 3, 0, ..., 0, 0, 0]),\n",
       " array([[0.84576726, 0.00957406, 0.00755097, 0.13710772],\n",
       "        [0.33892927, 0.06577966, 0.50501233, 0.09027879],\n",
       "        [0.8723081 , 0.07595469, 0.01468266, 0.03705455],\n",
       "        ...,\n",
       "        [0.6370469 , 0.13873293, 0.03558363, 0.1886366 ],\n",
       "        [0.80621886, 0.12938778, 0.00308445, 0.06130891],\n",
       "        [0.6882101 , 0.01839887, 0.04380883, 0.24958214]], dtype=float32))"
      ]
     },
     "execution_count": 33,
     "metadata": {},
     "output_type": "execute_result"
    }
   ],
   "source": [
    "true,pred"
   ]
  },
  {
   "cell_type": "code",
   "execution_count": null,
   "metadata": {},
   "outputs": [],
   "source": [
    "x=np.array([1,2,3,4,5,6,7,8])\n",
    "y=np.array([1,2,3,4,5,6,7,8])\n",
    "np.random.seed(1)\n",
    "np.random.shuffle(x)\n",
    "x"
   ]
  },
  {
   "cell_type": "code",
   "execution_count": null,
   "metadata": {},
   "outputs": [],
   "source": [
    "np.random.seed(1)\n",
    "np.random.shuffle(y)\n",
    "y"
   ]
  },
  {
   "cell_type": "code",
   "execution_count": null,
   "metadata": {},
   "outputs": [],
   "source": [
    "pred.argmax(-1)[:200]"
   ]
  },
  {
   "cell_type": "code",
   "execution_count": null,
   "metadata": {},
   "outputs": [],
   "source": [
    "true[:200]"
   ]
  },
  {
   "cell_type": "code",
   "execution_count": null,
   "metadata": {},
   "outputs": [],
   "source": [
    "# #Testing\n",
    "# test_path=\"./data/devwithoutlabels.txt\"\n",
    "# test_data=\"\"\n",
    "# test_data=next(emo.preprocessData(test_path,\"test\",Glove_emb,Glove_emb,batch_size=-1))\n",
    "# # pred=get_predicitons(test_data[1])[0]"
   ]
  },
  {
   "cell_type": "code",
   "execution_count": null,
   "metadata": {},
   "outputs": [],
   "source": [
    "# test_data[0][2754]"
   ]
  },
  {
   "cell_type": "code",
   "execution_count": null,
   "metadata": {},
   "outputs": [],
   "source": [
    "# testData = pad_sequences(testSequences, maxlen=MAX_SEQUENCE_LENGTH)\n",
    "# predictions = model.predict(testData, batch_size=BATCH_SIZE)\n",
    "# predictions = predictions.argmax(axis=1)\n",
    "\n",
    "# with io.open(solutionPath, \"w\", encoding=\"utf8\") as fout:\n",
    "#     fout.write('\\t'.join([\"id\", \"turn1\", \"turn2\", \"turn3\", \"label\"]) + '\\n')        \n",
    "#     with io.open(testDataPath, encoding=\"utf8\") as fin:\n",
    "#         fin.readline()\n",
    "#         for lineNum, line in enumerate(fin):\n",
    "#             fout.write('\\t'.join(line.strip().split('\\t')[:4]) + '\\t')\n",
    "#             fout.write(label2emotion[predictions[lineNum]] + '\\n')\n",
    "# print(\"Completed. Model parameters: \")\n",
    "# print(\"Learning rate : %.3f, LSTM Dim : %d, Dropout : %.3f, Batch_size : %d\" \n",
    "#       % (LEARNING_RATE, LSTM_DIM, DROPOUT, BATCH_SIZE))"
   ]
  },
  {
   "cell_type": "code",
   "execution_count": 23,
   "metadata": {},
   "outputs": [],
   "source": []
  },
  {
   "cell_type": "code",
   "execution_count": 24,
   "metadata": {},
   "outputs": [
    {
     "data": {
      "text/plain": [
       "(2755, (2755, 2, 25, 50))"
      ]
     },
     "execution_count": 24,
     "metadata": {},
     "output_type": "execute_result"
    }
   ],
   "source": [
    "len(indices),data.shape"
   ]
  },
  {
   "cell_type": "code",
   "execution_count": 16,
   "metadata": {},
   "outputs": [],
   "source": [
    "test_path=\"./data/devwithoutlabels.txt\"\n",
    "test_data=\"\"\n",
    "test_data=next(emo.preprocessData(test_path,\"test\",Glove_emb,Glove_emb,batch_size=2755))"
   ]
  },
  {
   "cell_type": "code",
   "execution_count": 17,
   "metadata": {},
   "outputs": [
    {
     "data": {
      "text/plain": [
       "(2755, 2, 25, 50)"
      ]
     },
     "execution_count": 17,
     "metadata": {},
     "output_type": "execute_result"
    }
   ],
   "source": [
    "test_data[1].shape"
   ]
  }
 ],
 "metadata": {
  "kernelspec": {
   "display_name": "Python 3",
   "language": "python",
   "name": "python3"
  },
  "language_info": {
   "codemirror_mode": {
    "name": "ipython",
    "version": 3
   },
   "file_extension": ".py",
   "mimetype": "text/x-python",
   "name": "python",
   "nbconvert_exporter": "python",
   "pygments_lexer": "ipython3",
   "version": "3.6.5"
  }
 },
 "nbformat": 4,
 "nbformat_minor": 2
}
